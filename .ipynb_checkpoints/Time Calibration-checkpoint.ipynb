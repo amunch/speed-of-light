{
 "cells": [
  {
   "cell_type": "code",
   "execution_count": 7,
   "metadata": {
    "collapsed": false
   },
   "outputs": [
    {
     "name": "stdout",
     "output_type": "stream",
     "text": [
      "                            WLS Regression Results                            \n",
      "==============================================================================\n",
      "Dep. Variable:                      x   R-squared:                       0.997\n",
      "Model:                            WLS   Adj. R-squared:                  0.997\n",
      "Method:                 Least Squares   F-statistic:                     5308.\n",
      "Date:                Thu, 02 Nov 2017   Prob (F-statistic):           1.83e-19\n",
      "Time:                        15:46:09   Log-Likelihood:                 110.62\n",
      "No. Observations:                  16   AIC:                            -217.2\n",
      "Df Residuals:                      14   BIC:                            -215.7\n",
      "Df Model:                           1                                         \n",
      "Covariance Type:            nonrobust                                         \n",
      "==============================================================================\n",
      "                 coef    std err          t      P>|t|      [0.025      0.975]\n",
      "------------------------------------------------------------------------------\n",
      "Intercept     -0.0072      0.000    -31.926      0.000      -0.008      -0.007\n",
      "y           2.537e-05   3.48e-07     72.858      0.000    2.46e-05    2.61e-05\n",
      "==============================================================================\n",
      "Omnibus:                        2.490   Durbin-Watson:                   1.594\n",
      "Prob(Omnibus):                  0.288   Jarque-Bera (JB):                1.134\n",
      "Skew:                           0.201   Prob(JB):                        0.567\n",
      "Kurtosis:                       1.760   Cond. No.                     2.26e+03\n",
      "==============================================================================\n",
      "\n",
      "Warnings:\n",
      "[1] Standard Errors assume that the covariance matrix of the errors is correctly specified.\n",
      "[2] The condition number is large, 2.26e+03. This might indicate that there are\n",
      "strong multicollinearity or other numerical problems.\n"
     ]
    },
    {
     "data": {
      "text/plain": [
       "<matplotlib.figure.Figure at 0x106733a90>"
      ]
     },
     "metadata": {},
     "output_type": "display_data"
    },
    {
     "data": {
      "image/png": "[encoded data removed]",
      "text/plain": [
       "<matplotlib.figure.Figure at 0x106733ad0>"
      ]
     },
     "metadata": {},
     "output_type": "display_data"
    }
   ],
   "source": [
    "%matplotlib inline\n",
    "\n",
    "import calibration\n",
    "reload(calibration)\n",
    "\n",
    "import matplotlib.pyplot as plt\n",
    "\n",
    "params = calibration.calibrate()\n",
    "wls_fit = params[2]\n",
    "print(wls_fit.summary())\n",
    "ws = params[3]\n",
    "\n",
    "plt.clf()\n",
    "fig = plt.figure()\n",
    "ax = fig.add_subplot(111, axisbg='w')\n",
    "ax_fit = ws.plot(\n",
    "    kind='scatter',\n",
    "    x='x',\n",
    "    y='y',\n",
    "    yerr='yerr',\n",
    "    style='o',\n",
    "    alpha=1.,\n",
    "    ax=ax,\n",
    "    title='Time (microseconds) vs. Channel',\n",
    "    edgecolor='#ff8300',\n",
    "    s=40\n",
    ")\n",
    "\n",
    "# weighted prediction\n",
    "wp, = ax.plot(\n",
    "    wls_fit.predict(),\n",
    "    ws['y'],\n",
    "    color='#e55ea2',\n",
    "    lw=1.,\n",
    "    alpha=1.0,\n",
    ")\n",
    "\n",
    "plt.tight_layout()\n",
    "fig.set_size_inches(6.40, 5.12)\n",
    "plt.savefig(\"time_fit.png\", dpi=100, alpha=True)\n",
    "plt.show()"
   ]
  },
  {
   "cell_type": "code",
   "execution_count": 13,
   "metadata": {
    "collapsed": false
   },
   "outputs": [
    {
     "data": {
      "text/plain": [
       "(2.5368564391282501e-05, 3.4819125509748984e-07)"
      ]
     },
     "execution_count": 13,
     "metadata": {},
     "output_type": "execute_result"
    }
   ],
   "source": [
    "calibration.m_D()\n"
   ]
  },
  {
   "cell_type": "code",
   "execution_count": null,
   "metadata": {
    "collapsed": true
   },
   "outputs": [],
   "source": []
  }
 ],
 "metadata": {
  "kernelspec": {
   "display_name": "Python 2",
   "language": "python",
   "name": "python2"
  },
  "language_info": {
   "codemirror_mode": {
    "name": "ipython",
    "version": 2
   },
   "file_extension": ".py",
   "mimetype": "text/x-python",
   "name": "python",
   "nbconvert_exporter": "python",
   "pygments_lexer": "ipython2",
   "version": "2.7.11"
  }
 },
 "nbformat": 4,
 "nbformat_minor": 2
}
